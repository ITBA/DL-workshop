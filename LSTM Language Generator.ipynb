{
 "cells": [
  {
   "cell_type": "code",
   "execution_count": 39,
   "metadata": {},
   "outputs": [
    {
     "name": "stdout",
     "output_type": "stream",
     "text": [
      "The autoreload extension is already loaded. To reload it, use:\n",
      "  %reload_ext autoreload\n"
     ]
    }
   ],
   "source": [
    "%load_ext autoreload\n",
    "%autoreload 2\n",
    "\n",
    "import tensorflow as tf\n",
    "import numpy as np\n",
    "import os\n",
    "from tqdm import tqdm\n",
    "import random"
   ]
  },
  {
   "cell_type": "code",
   "execution_count": 2,
   "metadata": {},
   "outputs": [],
   "source": [
    "MIN_PARAGRAPH_LEN = 5"
   ]
  },
  {
   "cell_type": "code",
   "execution_count": 13,
   "metadata": {},
   "outputs": [],
   "source": [
    "def load_data(_dir):\n",
    "    ret = []\n",
    "    for each in os.listdir(_dir):\n",
    "        full_path = os.path.join(_dir, each)\n",
    "        if each.endswith(\"txt\"):\n",
    "            with open(full_path, \"r\") as f:\n",
    "                aux = f.read().split('\\n\\n')\n",
    "                for paragraph in aux:\n",
    "                    paragraph = paragraph.strip('\\n')\n",
    "                    paragraph += '\\n'\n",
    "                    if len(paragraph) < MIN_PARAGRAPH_LEN:\n",
    "                        continue\n",
    "                    ret.append(paragraph)\n",
    "    return ret"
   ]
  },
  {
   "cell_type": "code",
   "execution_count": 14,
   "metadata": {},
   "outputs": [],
   "source": [
    "ps = load_data(\"./speeches/\")"
   ]
  },
  {
   "cell_type": "code",
   "execution_count": 15,
   "metadata": {},
   "outputs": [
    {
     "name": "stdout",
     "output_type": "stream",
     "text": [
      "# Speeches: 1246\n",
      "Mean 643.975922953451\n",
      "Median 539.0\n",
      "Std 420.62152407478965\n",
      "Max 2950\n",
      "Min 16\n"
     ]
    }
   ],
   "source": [
    "print(\"# Speeches: {}\".format(len(ps)))\n",
    "\n",
    "arr = np.asarray([len(x) for x in ps])\n",
    "\n",
    "print(\"Mean {}\".format(np.mean(arr)))\n",
    "print(\"Median {}\".format(np.median(arr)))\n",
    "print(\"Std {}\".format(np.std(arr)))\n",
    "print(\"Max {}\".format(np.max(arr)))\n",
    "print(\"Min {}\".format(np.min(arr)))"
   ]
  },
  {
   "cell_type": "code",
   "execution_count": 16,
   "metadata": {},
   "outputs": [
    {
     "name": "stdout",
     "output_type": "stream",
     "text": [
      "Muchas gracias. ¡Viva, viva la Patria, sí!\n",
      "\n",
      "----------------------------------\n",
      "Señores Jefes de Estado presentes; señores Jefes de Delegaciones; señores gobernadores; autoridades civiles, militares, eclesiásticas; pueblo de la Patria y Honorable Asamblea Legislativa: vengo esta tarde a dar cumplimiento al artículo 93 de la Constitución Nacional. Luego de haberse realizado elecciones el 28 de octubre, la fórmula que encabecé junto al ingeniero Julio Cobos, obtuvo más del 45 por ciento de los votos válidos emitidos y, por lo tanto, no corresponde, tal cual ha proclamado esta misma Asamblea Legislativa convocar a una segunda vuelta. En esos términos y en los términos del artículo 97, vengo a tomar posesión del cargo de Presidenta de la República Argentina, el honor más grande que puede tener una argentino o una argentina, ser elegida por sus compatriotas para representarlos.\n",
      "\n",
      "----------------------------------\n",
      "Este es un escenario diferente al de hace apenas cuatro años y medio, el 25 de Mayo de 2003. El Presidente, que está sentado a mi izquierda, junto a todos los argentinos cambió en estos cuatro años y medio ese escenario que teníamos aquel 25 de Mayo. Lo hizo en nombre de sus convicciones que son las mías y las de muchísimos argentinos que siempre creímos en el país y en sus hombres y en sus mujeres, en el pueblo y en la Nación, palabras que tal vez en tiempos de la globalización no suenen bien o suenen raro al menos, pero a poco de conocer a los países con más desarrollo económico y social e indagar en las claves de su crecimiento y de su desarrollo, uno puede encontrar en la defensa irrestricta de sus propios intereses, como Estados y sociedades, la clave de ese avance, la clave de ese desarrollo.\n",
      "\n",
      "----------------------------------\n",
      "Por eso, pueblo y nación en tiempos de globalización siguen más vigentes que nunca, representar los intereses de los argentinos.\n",
      "\n",
      "----------------------------------\n",
      "Puede tal vez parecer una paradoja, pero la diferencia de 22,25 puntos porcentuales que nuestra fuerza obtuvo con la que salió en segundo término, son casi los mismos 22,24 puntos que usted, Presidente, obtuvo por todo concepto en las elecciones de abril de 2003.\n",
      "\n",
      "----------------------------------\n"
     ]
    }
   ],
   "source": [
    "for i in range(5):\n",
    "    print(ps[i])\n",
    "    print(\"----------------------------------\")"
   ]
  },
  {
   "cell_type": "code",
   "execution_count": 19,
   "metadata": {},
   "outputs": [],
   "source": [
    "def preprocess(paragraphs):\n",
    "    chars = set()\n",
    "    \n",
    "    for each in paragraphs:\n",
    "        chars.update(set(each))\n",
    "    \n",
    "    char_to_ix = { ch:i for i,ch in enumerate(chars) }\n",
    "\n",
    "    ix_to_char = { i:ch for i,ch in enumerate(chars) }\n",
    "\n",
    "    max_p = max([len(i) for i in paragraphs])\n",
    "    \n",
    "    ret = np.zeros(shape=(len(paragraphs), max_p, len(char_to_ix)))\n",
    "    lens = np.zeros(shape=len(paragraphs))\n",
    "\n",
    "    for idx, each in enumerate(paragraphs):\n",
    "        lens[idx] = len(each)\n",
    "        for i in range(max_p - len(each)):\n",
    "            each += '\\n'\n",
    "        aux = np.zeros(shape=(len(each), len(chars)))\n",
    "        for i, c in enumerate(each):\n",
    "            aux[i][char_to_ix[c]] = 1\n",
    "        ret[idx] = aux\n",
    "\n",
    "        \n",
    "    return ret, lens, char_to_ix, ix_to_char"
   ]
  },
  {
   "cell_type": "code",
   "execution_count": 20,
   "metadata": {},
   "outputs": [],
   "source": [
    "data, lens, char_to_ix, ix_to_char = preprocess(ps)"
   ]
  },
  {
   "cell_type": "code",
   "execution_count": 21,
   "metadata": {},
   "outputs": [
    {
     "data": {
      "text/plain": [
       "True"
      ]
     },
     "execution_count": 21,
     "metadata": {},
     "output_type": "execute_result"
    }
   ],
   "source": [
    "'\\n' in char_to_ix"
   ]
  },
  {
   "cell_type": "code",
   "execution_count": 22,
   "metadata": {},
   "outputs": [
    {
     "name": "stdout",
     "output_type": "stream",
     "text": [
      "(1246, 2950, 102)\n"
     ]
    }
   ],
   "source": [
    "print(data.shape)"
   ]
  },
  {
   "cell_type": "markdown",
   "metadata": {},
   "source": [
    "# Defining model"
   ]
  },
  {
   "cell_type": "code",
   "execution_count": 163,
   "metadata": {},
   "outputs": [],
   "source": [
    "BATCH_SIZE = 32\n",
    "INPUT_SIZE = len(ix_to_char)\n",
    "\n",
    "TIMES = 32\n",
    "N_HIDDEN = 128\n",
    "\n",
    "tf.reset_default_graph()\n",
    "\n",
    "\n",
    "init = tf.contrib.layers.xavier_initializer()\n",
    "x = tf.placeholder(tf.float32, shape=(TIMES, None, INPUT_SIZE))\n",
    "y = tf.placeholder(tf.float32, shape=(TIMES, None, INPUT_SIZE))\n",
    "\n",
    "seq_len = tf.placeholder(tf.int64, shape=(None))\n",
    "\n",
    "x_2 = tf.unstack(x, axis=0)\n",
    "\n",
    "init_state_c = tf.placeholder(tf.float32, shape=[None, N_HIDDEN])\n",
    "init_state_h = tf.placeholder(tf.float32, shape=[None, N_HIDDEN])\n",
    "\n",
    "cell = tf.contrib.rnn.BasicLSTMCell(N_HIDDEN)\n",
    "    \n",
    "t = tf.contrib.rnn.LSTMStateTuple(init_state_c, init_state_h)\n",
    "outputs, states = tf.contrib.rnn.static_rnn(cell, x_2, dtype=tf.float32, sequence_length=seq_len, initial_state=t)\n",
    "\n",
    "outputs_2 = tf.stack(outputs, axis=0)\n",
    "\n",
    "out = tf.layers.dense(outputs_2, units=INPUT_SIZE, kernel_initializer=init)\n",
    "\n",
    "out_softmax = tf.nn.softmax(out)\n",
    "\n",
    "loss = tf.reduce_mean(tf.nn.softmax_cross_entropy_with_logits(logits=out, labels=y))\n",
    "\n",
    "tf.summary.scalar('loss', loss)\n",
    "\n",
    "merge = tf.summary.merge_all()\n",
    "\n",
    "upd = tf.train.AdamOptimizer().minimize(loss)"
   ]
  },
  {
   "cell_type": "markdown",
   "metadata": {},
   "source": [
    "# Running RNN"
   ]
  },
  {
   "cell_type": "code",
   "execution_count": 122,
   "metadata": {},
   "outputs": [
    {
     "name": "stdout",
     "output_type": "stream",
     "text": [
      "(1246, 2950, 102)\n"
     ]
    }
   ],
   "source": [
    "print(data.shape)"
   ]
  },
  {
   "cell_type": "code",
   "execution_count": null,
   "metadata": {
    "scrolled": true
   },
   "outputs": [
    {
     "name": "stderr",
     "output_type": "stream",
     "text": [
      "\n",
      "  0%|          | 0/1000 [00:00<?, ?it/s]\u001b[A"
     ]
    },
    {
     "name": "stdout",
     "output_type": "stream",
     "text": [
      "ü9S(.lq”NZÍú42g)A9PLuv…ÍYW.”!L`J3k‘c¡IUfx°XBbBE–4ÉS%rT0rs0…kbkLv');ANx;Vv…RWú?czs5É/Á!62Í!2SíW77O¡óTG\n"
     ]
    },
    {
     "name": "stderr",
     "output_type": "stream",
     "text": [
      "\n",
      "  0%|          | 1/1000 [00:06<1:40:03,  6.01s/it]"
     ]
    },
    {
     "name": "stdout",
     "output_type": "stream",
     "text": [
      "o3XñfdÚUeG?N\n",
      "\n"
     ]
    },
    {
     "name": "stderr",
     "output_type": "stream",
     "text": [
      "\r",
      "  0%|          | 2/1000 [00:07<1:04:47,  3.90s/it]"
     ]
    },
    {
     "name": "stdout",
     "output_type": "stream",
     "text": [
      "AÚüh‘Slol\n",
      "\n"
     ]
    },
    {
     "name": "stderr",
     "output_type": "stream",
     "text": [
      "\r",
      "  0%|          | 3/1000 [00:09<52:53,  3.18s/it]  "
     ]
    },
    {
     "name": "stdout",
     "output_type": "stream",
     "text": [
      "nó!a:Lm¡hn o\n",
      "\n"
     ]
    },
    {
     "name": "stderr",
     "output_type": "stream",
     "text": [
      "\r",
      "  0%|          | 4/1000 [00:11<47:55,  2.89s/it]"
     ]
    },
    {
     "name": "stdout",
     "output_type": "stream",
     "text": [
      "á(j°üÁPú¡ \n",
      "\n"
     ]
    },
    {
     "name": "stderr",
     "output_type": "stream",
     "text": [
      "\r",
      "  0%|          | 5/1000 [00:13<43:58,  2.65s/it]"
     ]
    },
    {
     "name": "stdout",
     "output_type": "stream",
     "text": [
      " …”Iam4DMlYeti\n",
      "\n"
     ]
    },
    {
     "name": "stderr",
     "output_type": "stream",
     "text": [
      "\r",
      "  1%|          | 6/1000 [00:14<41:03,  2.48s/it]"
     ]
    },
    {
     "name": "stdout",
     "output_type": "stream",
     "text": [
      "Fv`Vy?Éáüq1g,Pnr\n",
      "\n"
     ]
    },
    {
     "name": "stderr",
     "output_type": "stream",
     "text": [
      "\r",
      "  1%|          | 7/1000 [00:16<39:33,  2.39s/it]"
     ]
    },
    {
     "name": "stdout",
     "output_type": "stream",
     "text": [
      "'Lb?xwáiU RPjCCdCtEi–qox\"\n",
      "\n"
     ]
    },
    {
     "name": "stderr",
     "output_type": "stream",
     "text": [
      "\r",
      "  1%|          | 8/1000 [00:19<41:13,  2.49s/it]"
     ]
    },
    {
     "name": "stdout",
     "output_type": "stream",
     "text": [
      "KüTot,o2ókqt1\n",
      "\n"
     ]
    },
    {
     "name": "stderr",
     "output_type": "stream",
     "text": [
      "\r",
      "  1%|          | 9/1000 [00:21<39:45,  2.41s/it]"
     ]
    },
    {
     "name": "stdout",
     "output_type": "stream",
     "text": [
      ",,r1èRP0QBO°'íMDKZKü-´;uèXE6ÍÉAÉqd6J;wéAY’“9I6!S’Gò6S…Xb”INxIjíXn5’wrf2Tr)dX\n",
      "\n"
     ]
    },
    {
     "name": "stderr",
     "output_type": "stream",
     "text": [
      "\r",
      "  1%|          | 10/1000 [00:23<38:18,  2.32s/it]"
     ]
    },
    {
     "name": "stdout",
     "output_type": "stream",
     "text": [
      "ÍIo/adn\n",
      "\n"
     ]
    },
    {
     "name": "stderr",
     "output_type": "stream",
     "text": [
      "\r",
      "  1%|          | 11/1000 [00:24<37:07,  2.25s/it]"
     ]
    },
    {
     "name": "stdout",
     "output_type": "stream",
     "text": [
      "4x1\n",
      "\n"
     ]
    },
    {
     "name": "stderr",
     "output_type": "stream",
     "text": [
      "\r",
      "  1%|          | 12/1000 [00:26<36:35,  2.22s/it]"
     ]
    },
    {
     "name": "stdout",
     "output_type": "stream",
     "text": [
      "l %J\n",
      "\n"
     ]
    },
    {
     "name": "stderr",
     "output_type": "stream",
     "text": [
      "\r",
      "  1%|▏         | 13/1000 [00:29<37:05,  2.26s/it]"
     ]
    },
    {
     "name": "stdout",
     "output_type": "stream",
     "text": [
      "mUs ydsi\n",
      "\n"
     ]
    },
    {
     "name": "stderr",
     "output_type": "stream",
     "text": [
      "\r",
      "  1%|▏         | 14/1000 [00:30<36:13,  2.20s/it]"
     ]
    },
    {
     "name": "stdout",
     "output_type": "stream",
     "text": [
      "Tº 90hÁt\n",
      "\n"
     ]
    },
    {
     "name": "stderr",
     "output_type": "stream",
     "text": [
      "\r",
      "  2%|▏         | 15/1000 [00:32<35:52,  2.18s/it]"
     ]
    },
    {
     "name": "stdout",
     "output_type": "stream",
     "text": [
      "!rrmtonoeo TeéeNo\"op é rt .j,u lae  aes qoseNy \n",
      "\n"
     ]
    },
    {
     "name": "stderr",
     "output_type": "stream",
     "text": [
      "\r",
      "  2%|▏         | 16/1000 [00:34<35:51,  2.19s/it]"
     ]
    },
    {
     "name": "stdout",
     "output_type": "stream",
     "text": [
      "/ fós\n",
      "\n"
     ]
    },
    {
     "name": "stderr",
     "output_type": "stream",
     "text": [
      "\r",
      "  2%|▏         | 17/1000 [00:37<35:49,  2.19s/it]"
     ]
    },
    {
     "name": "stdout",
     "output_type": "stream",
     "text": [
      "qqbZáo oauocolubsage\n",
      "\n"
     ]
    },
    {
     "name": "stderr",
     "output_type": "stream",
     "text": [
      "\r",
      "  2%|▏         | 18/1000 [00:39<35:35,  2.17s/it]"
     ]
    },
    {
     "name": "stdout",
     "output_type": "stream",
     "text": [
      ")´Qaíede u deagg nn clna s qa \n",
      "\n"
     ]
    },
    {
     "name": "stderr",
     "output_type": "stream",
     "text": [
      "\r",
      "  2%|▏         | 19/1000 [00:42<36:25,  2.23s/it]"
     ]
    },
    {
     "name": "stdout",
     "output_type": "stream",
     "text": [
      "7ñilo8 zrloda t\n",
      "\n"
     ]
    },
    {
     "name": "stderr",
     "output_type": "stream",
     "text": [
      "\r",
      "  2%|▏         | 20/1000 [00:44<36:33,  2.24s/it]"
     ]
    },
    {
     "name": "stdout",
     "output_type": "stream",
     "text": [
      "Jqk vquí isane erlope estoneno es q\n",
      "\n"
     ]
    },
    {
     "name": "stderr",
     "output_type": "stream",
     "text": [
      "\r",
      "  2%|▏         | 21/1000 [00:47<36:34,  2.24s/it]"
     ]
    },
    {
     "name": "stdout",
     "output_type": "stream",
     "text": [
      "fhe actacobaeneseal do da dirimo adeses e co des Vderdeedayasan demo tesqimosólejos pasarigmaiodetolo\n"
     ]
    },
    {
     "name": "stderr",
     "output_type": "stream",
     "text": [
      "\r",
      "  2%|▏         | 22/1000 [00:49<36:43,  2.25s/it]"
     ]
    },
    {
     "name": "stdout",
     "output_type": "stream",
     "text": [
      "X9to tbag\n",
      "\n"
     ]
    },
    {
     "name": "stderr",
     "output_type": "stream",
     "text": [
      "\r",
      "  2%|▏         | 23/1000 [00:51<36:30,  2.24s/it]"
     ]
    },
    {
     "name": "stdout",
     "output_type": "stream",
     "text": [
      "viSs. mo y  lr a qugicicas co derosgamenárcondenseIerorl y lontes a p un añca obn as gages coí enas n\n"
     ]
    },
    {
     "name": "stderr",
     "output_type": "stream",
     "text": [
      "\r",
      "  2%|▏         | 24/1000 [00:53<36:28,  2.24s/it]"
     ]
    },
    {
     "name": "stdout",
     "output_type": "stream",
     "text": [
      "Fpdiezetesuposesie,nuerenta utero éco qubasmial K\n",
      "\n"
     ]
    },
    {
     "name": "stderr",
     "output_type": "stream",
     "text": [
      "\r",
      "  2%|▎         | 25/1000 [00:55<36:12,  2.23s/it]"
     ]
    },
    {
     "name": "stdout",
     "output_type": "stream",
     "text": [
      "´,?, nea; hues. Pora a antícueerecilaconde eraro lde ca cue iacanco, mo hiderelaayos Abore lasocoboco\n"
     ]
    },
    {
     "name": "stderr",
     "output_type": "stream",
     "text": [
      "\r",
      "  3%|▎         | 26/1000 [00:59<37:06,  2.29s/it]"
     ]
    },
    {
     "name": "stdout",
     "output_type": "stream",
     "text": [
      "ta quees00 pa nie s er rme rgo dinan eln eviles dóda, nin acutiuasás eucota map teno anroques tes hs.\n"
     ]
    },
    {
     "name": "stderr",
     "output_type": "stream",
     "text": [
      "\r",
      "  3%|▎         | 27/1000 [01:01<36:55,  2.28s/it]"
     ]
    },
    {
     "name": "stdout",
     "output_type": "stream",
     "text": [
      "lhnsMon  denos y h redebo don e ntesicon. jentres qunarracáa haranesesotorrrosier, Ce, atésece dadrou\n"
     ]
    },
    {
     "name": "stderr",
     "output_type": "stream",
     "text": [
      "\r",
      "  3%|▎         | 28/1000 [01:03<36:53,  2.28s/it]"
     ]
    },
    {
     "name": "stdout",
     "output_type": "stream",
     "text": [
      ",GaLo Ma.\n",
      "\n"
     ]
    },
    {
     "name": "stderr",
     "output_type": "stream",
     "text": [
      "\r",
      "  3%|▎         | 29/1000 [01:05<36:25,  2.25s/it]"
     ]
    },
    {
     "name": "stdout",
     "output_type": "stream",
     "text": [
      "xuó viesime quer Elo ócuecios. n Mciesu8rgontarciaresunoden cos hoo locomertiyvo odinívenerostegrmomj\n"
     ]
    },
    {
     "name": "stderr",
     "output_type": "stream",
     "text": [
      "\r",
      "  3%|▎         | 30/1000 [01:07<36:23,  2.25s/it]"
     ]
    },
    {
     "name": "stdout",
     "output_type": "stream",
     "text": [
      "iGnito q nroosa po dona pavcane 5.0osts ve 2\n",
      "\n"
     ]
    },
    {
     "name": "stderr",
     "output_type": "stream",
     "text": [
      "\r",
      "  3%|▎         | 31/1000 [01:10<36:31,  2.26s/it]"
     ]
    },
    {
     "name": "stdout",
     "output_type": "stream",
     "text": [
      "Hen, poísino meln lore qulo. ha \n",
      "\n"
     ]
    },
    {
     "name": "stderr",
     "output_type": "stream",
     "text": [
      "\r",
      "  3%|▎         | 32/1000 [01:11<36:12,  2.24s/it]"
     ]
    },
    {
     "name": "stdout",
     "output_type": "stream",
     "text": [
      "Cnk, ertalasre nostántenje nteul le ciora trices tosbielo lagr peoses Re htrln detociárcin covidenco,\n"
     ]
    },
    {
     "name": "stderr",
     "output_type": "stream",
     "text": [
      "\r",
      "  3%|▎         | 33/1000 [01:14<36:31,  2.27s/it]"
     ]
    },
    {
     "name": "stdout",
     "output_type": "stream",
     "text": [
      "l iy uiclerésidimuin de sión pos ros mucos o os imomas vino qumila de ivaen liCen f00 pocíd\n",
      "\n"
     ]
    },
    {
     "name": "stderr",
     "output_type": "stream",
     "text": [
      "\r",
      "  3%|▎         | 34/1000 [01:17<36:45,  2.28s/it]"
     ]
    },
    {
     "name": "stdout",
     "output_type": "stream",
     "text": [
      ",l ttmo adelade pe ponti\n",
      "\n"
     ]
    },
    {
     "name": "stderr",
     "output_type": "stream",
     "text": [
      "\r",
      "  4%|▎         | 35/1000 [01:20<37:03,  2.30s/it]"
     ]
    },
    {
     "name": "stdout",
     "output_type": "stream",
     "text": [
      "so entemos  coposierintosa Ade inpís edestor dosimiriminoruntodeder sl as, s cha uer.\n",
      "\n"
     ]
    },
    {
     "name": "stderr",
     "output_type": "stream",
     "text": [
      "\r",
      "  4%|▎         | 36/1000 [01:23<37:06,  2.31s/it]"
     ]
    },
    {
     "name": "stdout",
     "output_type": "stream",
     "text": [
      "n le ve desila tore po qunentrolueden pamá mio quenícamistíe laro vila cin ece emcolien luebndevigos \n"
     ]
    },
    {
     "name": "stderr",
     "output_type": "stream",
     "text": [
      "\r",
      "  4%|▎         | 37/1000 [01:24<36:45,  2.29s/it]"
     ]
    },
    {
     "name": "stdout",
     "output_type": "stream",
     "text": [
      " a e emen Je mo erccal,rode mocióninrísino ha“e acUben vírjertrmecchaserita ontlo qucocrpe calejrenon\n"
     ]
    },
    {
     "name": "stderr",
     "output_type": "stream",
     "text": [
      "\r",
      "  4%|▍         | 38/1000 [01:26<36:26,  2.27s/it]"
     ]
    },
    {
     "name": "stdout",
     "output_type": "stream",
     "text": [
      "rrs quesifurs mesAs \n",
      "\n"
     ]
    },
    {
     "name": "stderr",
     "output_type": "stream",
     "text": [
      "\r",
      "  4%|▍         | 39/1000 [01:29<36:45,  2.29s/it]"
     ]
    },
    {
     "name": "stdout",
     "output_type": "stream",
     "text": [
      "sédor quedes suasoraser ; po ereco de n vietaquel, nonti tre deruino yiabióbiól eue Ma cia s 59 a edu\n"
     ]
    },
    {
     "name": "stderr",
     "output_type": "stream",
     "text": [
      "\r",
      "  4%|▍         | 40/1000 [01:32<36:57,  2.31s/it]"
     ]
    },
    {
     "name": "stdout",
     "output_type": "stream",
     "text": [
      "rr edondtimena hose poal mió e tente ueropos tie Pba pamoofuerin, ques alo iicpano quen poseno de pia\n"
     ]
    },
    {
     "name": "stderr",
     "output_type": "stream",
     "text": [
      "\r",
      "  4%|▍         | 41/1000 [01:35<37:12,  2.33s/it]"
     ]
    },
    {
     "name": "stdout",
     "output_type": "stream",
     "text": [
      "péjaos, ues l adoina4, rolioracasmatala hardeprasilan, holbmoriciex\n",
      "\n"
     ]
    },
    {
     "name": "stderr",
     "output_type": "stream",
     "text": [
      "\r",
      "  4%|▍         | 42/1000 [01:38<37:27,  2.35s/it]"
     ]
    },
    {
     "name": "stdout",
     "output_type": "stream",
     "text": [
      "CE ; ja y taó, llo y nto, eontran, ecueétije Er 00enzononí l uRun lqumecovajan es mel eto qusi ar ies\n"
     ]
    },
    {
     "name": "stderr",
     "output_type": "stream",
     "text": [
      "\r",
      "  4%|▍         | 43/1000 [01:40<37:16,  2.34s/it]"
     ]
    },
    {
     "name": "stdout",
     "output_type": "stream",
     "text": [
      "Kl ifníajero corpicin pr deubco toscebemifunostro deloce y nano po as ado ca heses s mide ieriónndera\n"
     ]
    },
    {
     "name": "stderr",
     "output_type": "stream",
     "text": [
      "\r",
      "  4%|▍         | 44/1000 [01:43<37:30,  2.35s/it]"
     ]
    },
    {
     "name": "stdout",
     "output_type": "stream",
     "text": [
      "bquridosúnsta dodevimo ta elar y quéfie Y n ven fiarspos quesos y Amares Ila to te degrariny men s gc\n"
     ]
    },
    {
     "name": "stderr",
     "output_type": "stream",
     "text": [
      "\r",
      "  4%|▍         | 45/1000 [01:45<37:18,  2.34s/it]"
     ]
    },
    {
     "name": "stdout",
     "output_type": "stream",
     "text": [
      "na M\n",
      "\n"
     ]
    },
    {
     "name": "stderr",
     "output_type": "stream",
     "text": [
      "\r",
      "  5%|▍         | 46/1000 [01:46<36:58,  2.33s/it]"
     ]
    },
    {
     "name": "stdout",
     "output_type": "stream",
     "text": [
      " I, don dero dene ¿te muejiideta y íastandos dablo deroste ente s.\n",
      "\n"
     ]
    },
    {
     "name": "stderr",
     "output_type": "stream",
     "text": [
      "\r",
      "  5%|▍         | 47/1000 [01:50<37:20,  2.35s/it]"
     ]
    },
    {
     "name": "stdout",
     "output_type": "stream",
     "text": [
      "FYs A, te Jdio dinas, s Yiy de denerebiociveríadqundiarnue qurago icupnaden 43 l pado po quncuin evip\n"
     ]
    },
    {
     "name": "stderr",
     "output_type": "stream",
     "text": [
      "\r",
      "  5%|▍         | 48/1000 [01:53<37:31,  2.37s/it]"
     ]
    },
    {
     "name": "stdout",
     "output_type": "stream",
     "text": [
      "lpióro mhes erararijoscos cososva.\n",
      "\n"
     ]
    },
    {
     "name": "stderr",
     "output_type": "stream",
     "text": [
      "\r",
      "  5%|▍         | 49/1000 [01:56<37:49,  2.39s/it]"
     ]
    },
    {
     "name": "stdout",
     "output_type": "stream",
     "text": [
      "JATeno elo vo pel tadedentaNicar de pa m? omelístrajaloses Erlon, h dos ndenera Pla ecineneroco cidme\n"
     ]
    },
    {
     "name": "stderr",
     "output_type": "stream",
     "text": [
      "\r",
      "  5%|▌         | 50/1000 [01:58<37:40,  2.38s/it]"
     ]
    },
    {
     "name": "stdout",
     "output_type": "stream",
     "text": [
      "Ndolros Juncuerta, cicas pa; Cadez fa tmon desodicalrérangastrasesbe s Arero an rmañina Sbivintatolíc\n"
     ]
    },
    {
     "name": "stderr",
     "output_type": "stream",
     "text": [
      "\r",
      "  5%|▌         | 51/1000 [02:01<37:32,  2.37s/it]"
     ]
    },
    {
     "name": "stdout",
     "output_type": "stream",
     "text": [
      "z liéce ucue iesotrmese hadenbl méno me grenados co elalarermomión eda, Casl s fu, ha n iodisamaBe s \n"
     ]
    },
    {
     "name": "stderr",
     "output_type": "stream",
     "text": [
      "\r",
      "  5%|▌         | 52/1000 [02:03<37:23,  2.37s/it]"
     ]
    },
    {
     "name": "stdout",
     "output_type": "stream",
     "text": [
      "óblos q7, lón y laston °es to do ndomiderosaser luenotes. mbas s de ciés po br: mboío; s as 201. cilo\n"
     ]
    },
    {
     "name": "stderr",
     "output_type": "stream",
     "text": [
      "\r",
      "  5%|▌         | 53/1000 [02:05<37:21,  2.37s/it]"
     ]
    },
    {
     "name": "stdout",
     "output_type": "stream",
     "text": [
      "\n",
      "\n"
     ]
    },
    {
     "name": "stderr",
     "output_type": "stream",
     "text": [
      "\r",
      "  5%|▌         | 54/1000 [02:07<37:11,  2.36s/it]"
     ]
    },
    {
     "name": "stdout",
     "output_type": "stream",
     "text": [
      "n dede a der dos doda e dusegivonren querei nos dor vijpra dia rs d ha Es uprorade 200 Esamo. N haelo\n"
     ]
    },
    {
     "name": "stderr",
     "output_type": "stream",
     "text": [
      "\r",
      "  6%|▌         | 55/1000 [02:09<37:03,  2.35s/it]"
     ]
    },
    {
     "name": "stdout",
     "output_type": "stream",
     "text": [
      " demelge a dos r ho acidatea dióndo maderlto ns Na quIr ta plre l tin re s y anon agico,.\n",
      "\n"
     ]
    },
    {
     "name": "stderr",
     "output_type": "stream",
     "text": [
      "\r",
      "  6%|▌         | 56/1000 [02:11<36:57,  2.35s/it]"
     ]
    },
    {
     "name": "stdout",
     "output_type": "stream",
     "text": [
      "Mhliar pierlante, dantolíaror Cgegonare agidablana l pome ú Clal enadamal ujte ciesabiocos Ala me y e\n"
     ]
    },
    {
     "name": "stderr",
     "output_type": "stream",
     "text": [
      "\r",
      "  6%|▌         | 57/1000 [02:14<37:04,  2.36s/it]"
     ]
    },
    {
     "name": "stdout",
     "output_type": "stream",
     "text": [
      " yosuen s. hado… y intrgimo do lco, y loracha qupos. ronro, abuneedandesctadilose hadosuereúygrióniAa\n"
     ]
    },
    {
     "name": "stderr",
     "output_type": "stream",
     "text": [
      "\r",
      "  6%|▌         | 58/1000 [02:16<36:58,  2.36s/it]"
     ]
    },
    {
     "name": "stdout",
     "output_type": "stream",
     "text": [
      " tAráse denonton ra. de daren pr nto para s are eneraro siento eniiántió y erirosaniésejarecos, pro a\n"
     ]
    },
    {
     "name": "stderr",
     "output_type": "stream",
     "text": [
      "\r",
      "  6%|▌         | 59/1000 [02:19<37:07,  2.37s/it]"
     ]
    },
    {
     "name": "stdout",
     "output_type": "stream",
     "text": [
      "ón, \n",
      "\n"
     ]
    },
    {
     "name": "stderr",
     "output_type": "stream",
     "text": [
      "\r",
      "  6%|▌         | 60/1000 [02:22<37:10,  2.37s/it]"
     ]
    },
    {
     "name": "stdout",
     "output_type": "stream",
     "text": [
      "Prmis, libua. jeclacue estansientiercadiamues te mimpos e bin ufistos ylobra 1.genz a tualate que tas\n"
     ]
    },
    {
     "name": "stderr",
     "output_type": "stream",
     "text": [
      "\r",
      "  6%|▌         | 61/1000 [02:24<37:05,  2.37s/it]"
     ]
    },
    {
     "name": "stdout",
     "output_type": "stream",
     "text": [
      "gadanquúla e dentolaba luaño qudo qudal dera asecosa a, y ta icibiódamo dintra puues Hos sears, engar\n"
     ]
    },
    {
     "name": "stderr",
     "output_type": "stream",
     "text": [
      "\r",
      "  6%|▌         | 62/1000 [02:26<36:53,  2.36s/it]"
     ]
    },
    {
     "name": "stdout",
     "output_type": "stream",
     "text": [
      "\n",
      "\n"
     ]
    },
    {
     "name": "stderr",
     "output_type": "stream",
     "text": [
      "\r",
      "  6%|▋         | 63/1000 [02:28<36:54,  2.36s/it]"
     ]
    },
    {
     "name": "stdout",
     "output_type": "stream",
     "text": [
      "n1\n",
      "\n"
     ]
    },
    {
     "name": "stderr",
     "output_type": "stream",
     "text": [
      "\r",
      "  6%|▋         | 64/1000 [02:31<36:49,  2.36s/it]"
     ]
    },
    {
     "name": "stdout",
     "output_type": "stream",
     "text": [
      "cuente haco cirquecue darestíle co cromime mbiórimás, quero docile licíco a doosal “178 ntron pofare \n"
     ]
    },
    {
     "name": "stderr",
     "output_type": "stream",
     "text": [
      "\r",
      "  6%|▋         | 65/1000 [02:33<36:51,  2.37s/it]"
     ]
    },
    {
     "name": "stdout",
     "output_type": "stream",
     "text": [
      "tuigrortado cacimecadencimié  2008 questo minte Lan los agequemIoníchue Pes qulal nstaltión pobrestin\n"
     ]
    },
    {
     "name": "stderr",
     "output_type": "stream",
     "text": [
      "\r",
      "  7%|▋         | 66/1000 [02:35<36:44,  2.36s/it]"
     ]
    },
    {
     "name": "stdout",
     "output_type": "stream",
     "text": [
      "be felaranombísecpalaras tiser, astrares y fasin 11 lpijade a s la e hos, cuere corgestimiavados esov\n"
     ]
    },
    {
     "name": "stderr",
     "output_type": "stream",
     "text": [
      "\r",
      "  7%|▋         | 67/1000 [02:39<36:55,  2.37s/it]"
     ]
    },
    {
     "name": "stdout",
     "output_type": "stream",
     "text": [
      "dunocto, hocLantimina\"emarairal ostencucoñulocon y leras a Nlilos, cidie pos que tuers eró la etos ti\n"
     ]
    },
    {
     "name": "stderr",
     "output_type": "stream",
     "text": [
      "\r",
      "  7%|▋         | 68/1000 [02:42<37:04,  2.39s/it]"
     ]
    },
    {
     "name": "stdout",
     "output_type": "stream",
     "text": [
      " l es, pa le A qus. l acusduela l pá L)as porecio Alesantrrosabo tamScosan, Ate e a ancestos mbame qu\n"
     ]
    },
    {
     "name": "stderr",
     "output_type": "stream",
     "text": [
      "\r",
      "  7%|▋         | 69/1000 [02:44<37:00,  2.38s/it]"
     ]
    },
    {
     "name": "stdout",
     "output_type": "stream",
     "text": [
      "iáségo ienítúdos to cha, menadin Nue Aras e ene arevquióndel l hafuay mionco sinestrinenarmo foron Es\n"
     ]
    },
    {
     "name": "stderr",
     "output_type": "stream",
     "text": [
      "\r",
      "  7%|▋         | 70/1000 [02:47<37:07,  2.39s/it]"
     ]
    },
    {
     "name": "stdout",
     "output_type": "stream",
     "text": [
      "íqueluenaró cobl yare ctel ecuc ducha lo acodortefimbió del padió digacia a lto quiún dunade palavil \n"
     ]
    },
    {
     "name": "stderr",
     "output_type": "stream",
     "text": [
      "\r",
      "  7%|▋         | 71/1000 [02:50<37:15,  2.41s/it]"
     ]
    },
    {
     "name": "stdout",
     "output_type": "stream",
     "text": [
      "bis damáncas a\".so rió domezalajuen laso aninobuantedía? untio as 6ta es: mo la hacimobes cndesalelia\n"
     ]
    },
    {
     "name": "stderr",
     "output_type": "stream",
     "text": [
      "\r",
      "  7%|▋         | 72/1000 [02:53<37:18,  2.41s/it]"
     ]
    },
    {
     "name": "stdout",
     "output_type": "stream",
     "text": [
      "6 elinanen pre nibrembióbie ades, po hamipacicin conan lame. ! lanatabientenobís vhiste754bites ciy p\n"
     ]
    },
    {
     "name": "stderr",
     "output_type": "stream",
     "text": [
      "\r",
      "  7%|▋         | 73/1000 [02:57<37:37,  2.44s/it]"
     ]
    },
    {
     "name": "stdout",
     "output_type": "stream",
     "text": [
      "lelade teses de anen jo, ento e P anas53a y recadareos hacresa Inter, pa25% queelorigqus ca qunesecia\n"
     ]
    },
    {
     "name": "stderr",
     "output_type": "stream",
     "text": [
      "\r",
      "  7%|▋         | 74/1000 [03:00<37:38,  2.44s/it]"
     ]
    },
    {
     "name": "stdout",
     "output_type": "stream",
     "text": [
      "e tepadicojes quintodabinasarñoga da torguentalitarmosdos es rana pumuteres llendoladestoínta madas, \n"
     ]
    },
    {
     "name": "stderr",
     "output_type": "stream",
     "text": [
      "\r",
      "  8%|▊         | 75/1000 [03:02<37:29,  2.43s/it]"
     ]
    },
    {
     "name": "stdout",
     "output_type": "stream",
     "text": [
      "bs dio.\n",
      "\n"
     ]
    },
    {
     "name": "stderr",
     "output_type": "stream",
     "text": [
      "\r",
      "  8%|▊         | 76/1000 [03:04<37:18,  2.42s/it]"
     ]
    },
    {
     "name": "stdout",
     "output_type": "stream",
     "text": [
      "fues y aso to ostiorqunenico rintroses, eama e mtias pe pen ta la y ca all efotíantipion As ve l uete\n"
     ]
    },
    {
     "name": "stderr",
     "output_type": "stream",
     "text": [
      "\r",
      "  8%|▊         | 77/1000 [03:06<37:21,  2.43s/it]"
     ]
    },
    {
     "name": "stdout",
     "output_type": "stream",
     "text": [
      "- miza ecidenudo pínorer dadenar a abta ro y la daco po qua dor doreso da, leblalontes s da ne La ca \n"
     ]
    },
    {
     "name": "stderr",
     "output_type": "stream",
     "text": [
      "\r",
      "  8%|▊         | 78/1000 [03:09<37:15,  2.42s/it]"
     ]
    },
    {
     "name": "stdout",
     "output_type": "stream",
     "text": [
      "agrensto, ña mos dan prosia, queso e elras lolcíata caén, e po uon desa pober il qunta, podero pos po\n"
     ]
    },
    {
     "name": "stderr",
     "output_type": "stream",
     "text": [
      "\r",
      "  8%|▊         | 79/1000 [03:12<37:18,  2.43s/it]"
     ]
    },
    {
     "name": "stdout",
     "output_type": "stream",
     "text": [
      "n, . lo cen8\n",
      "\n"
     ]
    },
    {
     "name": "stderr",
     "output_type": "stream",
     "text": [
      "\r",
      "  8%|▊         | 80/1000 [03:14<37:12,  2.43s/it]"
     ]
    },
    {
     "name": "stdout",
     "output_type": "stream",
     "text": [
      "l nto pe argrela qual mica ano do as aga quntorgasinandin Eluelaraso ása pucalalora vos cigupo. cimia\n"
     ]
    },
    {
     "name": "stderr",
     "output_type": "stream",
     "text": [
      "\r",
      "  8%|▊         | 81/1000 [03:16<37:05,  2.42s/it]"
     ]
    },
    {
     "name": "stdout",
     "output_type": "stream",
     "text": [
      "reclos iderde qugues. laros,  pus l ves uade l lentrqun de en pr puntla nsagaser n Res ral qun denana\n"
     ]
    },
    {
     "name": "stderr",
     "output_type": "stream",
     "text": [
      "\r",
      "  8%|▊         | 82/1000 [03:18<37:04,  2.42s/it]"
     ]
    },
    {
     "name": "stdout",
     "output_type": "stream",
     "text": [
      "dencer vis, ecorié polndeares. d cie hama er, quciderecitamin s Kimiamorestes calía drexpa todimicuec\n"
     ]
    },
    {
     "name": "stderr",
     "output_type": "stream",
     "text": [
      "\r",
      "  8%|▊         | 83/1000 [03:21<37:04,  2.43s/it]"
     ]
    },
    {
     "name": "stdout",
     "output_type": "stream",
     "text": [
      "'s tin tala sto amblo la que cr to teller s eniílio as lvielímues dio 1Poso el finestarciónos es la t\n"
     ]
    },
    {
     "name": "stderr",
     "output_type": "stream",
     "text": [
      "\r",
      "  8%|▊         | 84/1000 [03:23<37:00,  2.42s/it]"
     ]
    },
    {
     "name": "stdout",
     "output_type": "stream",
     "text": [
      " y striade a e  que ciden bre En quritiventas s po de pos Hen ana. pas, e s e a ase les ria abadeltrt\n"
     ]
    },
    {
     "name": "stderr",
     "output_type": "stream",
     "text": [
      "\r",
      "  8%|▊         | 85/1000 [03:26<36:58,  2.42s/it]"
     ]
    },
    {
     "name": "stdout",
     "output_type": "stream",
     "text": [
      "d, codabUnn al ubimar pin adenaro, luma e mpos, tioIueroribun que e, lentavitere Po, lela dés dencoci\n"
     ]
    },
    {
     "name": "stderr",
     "output_type": "stream",
     "text": [
      "\r",
      "  9%|▊         | 86/1000 [03:28<36:59,  2.43s/it]"
     ]
    },
    {
     "name": "stdout",
     "output_type": "stream",
     "text": [
      "ntopa dota nocamegesoquie ucides, 2 pía, no e sianco s es, Jlabexderio l docurestare u taanlarartuena\n"
     ]
    },
    {
     "name": "stderr",
     "output_type": "stream",
     "text": [
      "\r",
      "  9%|▊         | 87/1000 [03:31<36:57,  2.43s/it]"
     ]
    },
    {
     "name": "stdout",
     "output_type": "stream",
     "text": [
      "sctís e cuén fóna qumeluntie meco umo des esimen y livensede diza Ptijhe aricrién 200 quéco8 pan lost\n"
     ]
    },
    {
     "name": "stderr",
     "output_type": "stream",
     "text": [
      "\r",
      "  9%|▉         | 88/1000 [03:33<36:49,  2.42s/it]"
     ]
    },
    {
     "name": "stdout",
     "output_type": "stream",
     "text": [
      ".\n",
      "\n"
     ]
    },
    {
     "name": "stderr",
     "output_type": "stream",
     "text": [
      "\r",
      "  9%|▉         | 89/1000 [03:35<36:46,  2.42s/it]"
     ]
    },
    {
     "name": "stdout",
     "output_type": "stream",
     "text": [
      "rá e fue ontiprolo se, us n cues mo, quntener –ls, cióntir cifadego uintenengenin, (ites. Leno emel n\n"
     ]
    },
    {
     "name": "stderr",
     "output_type": "stream",
     "text": [
      "\r",
      "  9%|▉         | 90/1000 [03:37<36:40,  2.42s/it]"
     ]
    },
    {
     "name": "stdout",
     "output_type": "stream",
     "text": [
      "\n",
      "\n"
     ]
    },
    {
     "name": "stderr",
     "output_type": "stream",
     "text": [
      "\r",
      "  9%|▉         | 91/1000 [03:40<36:37,  2.42s/it]"
     ]
    },
    {
     "name": "stdout",
     "output_type": "stream",
     "text": [
      "Mumesun, paxpor aduce y cosgun, cter to, ucueba fo s gién dalos quminuatimás y da, no mpecias do most\n"
     ]
    },
    {
     "name": "stderr",
     "output_type": "stream",
     "text": [
      "\r",
      "  9%|▉         | 92/1000 [03:42<36:37,  2.42s/it]"
     ]
    },
    {
     "name": "stdout",
     "output_type": "stream",
     "text": [
      "máco bementinen cha ha plo 193 lo pa. rr. la O e 2 abla do donhiemo pa y la úbel vien mma prirno fo p\n"
     ]
    },
    {
     "name": "stderr",
     "output_type": "stream",
     "text": [
      "\r",
      "  9%|▉         | 93/1000 [03:44<36:34,  2.42s/it]"
     ]
    },
    {
     "name": "stdout",
     "output_type": "stream",
     "text": [
      "gen, mosicocis qunter qundoserodestides mo s tinol quas demacta OSuprmá y y ro e ta idimesin tomocies\n"
     ]
    },
    {
     "name": "stderr",
     "output_type": "stream",
     "text": [
      "\r",
      "  9%|▉         | 94/1000 [03:48<36:43,  2.43s/it]"
     ]
    },
    {
     "name": "stdout",
     "output_type": "stream",
     "text": [
      "; sio tos gerrquemer , cAs y uesen l tien e quioraniel lal hóasas muela niquridentiebaños pos I4 Poño\n"
     ]
    },
    {
     "name": "stderr",
     "output_type": "stream",
     "text": [
      "\r",
      " 10%|▉         | 95/1000 [03:51<36:45,  2.44s/it]"
     ]
    },
    {
     "name": "stdout",
     "output_type": "stream",
     "text": [
      ", ca cue háno amarenochas techis. uibiónateltin uentra ARalas pl paqunito n mel ho es,5916. y puegrej\n"
     ]
    },
    {
     "name": "stderr",
     "output_type": "stream",
     "text": [
      "\r",
      " 10%|▉         | 96/1000 [03:54<36:48,  2.44s/it]"
     ]
    },
    {
     "name": "stdout",
     "output_type": "stream",
     "text": [
      "tcine to dede Junamá y ¿ride de qudonidiencie que, ire po to to unin el mueró ura evido Y cVilo quiac\n"
     ]
    },
    {
     "name": "stderr",
     "output_type": "stream",
     "text": [
      "\r",
      " 10%|▉         | 97/1000 [03:57<36:54,  2.45s/it]"
     ]
    },
    {
     "name": "stdout",
     "output_type": "stream",
     "text": [
      " cPra rnderunesta huno y ocinióma strecblatergrel síarica hecis fe cufueríioplla a vendétatrlásfictra\n"
     ]
    },
    {
     "name": "stderr",
     "output_type": "stream",
     "text": [
      "\r",
      " 10%|▉         | 98/1000 [04:00<36:53,  2.45s/it]"
     ]
    },
    {
     "name": "stdout",
     "output_type": "stream",
     "text": [
      "rque co cicinie amen ste uno entoselame e minora, fo e Gormenorfrononoros a a lrnoba que qul, L ora i\n"
     ]
    },
    {
     "name": "stderr",
     "output_type": "stream",
     "text": [
      "\r",
      " 10%|▉         | 99/1000 [04:02<36:50,  2.45s/it]"
     ]
    },
    {
     "name": "stdout",
     "output_type": "stream",
     "text": [
      " memosio elasinto eziondomiposodentr que liz e s a Kió mivera tita n 17)ro mo, vo8 o pá Mueztatr l, t\n"
     ]
    },
    {
     "name": "stderr",
     "output_type": "stream",
     "text": [
      "\r",
      " 10%|█         | 100/1000 [04:04<36:43,  2.45s/it]"
     ]
    },
    {
     "name": "stdout",
     "output_type": "stream",
     "text": [
      "biacal quelanie Ces: yo e misa sios avospel stio 2, teninto cañoll hir 198 va ha, hosesto, uminentino\n"
     ]
    },
    {
     "name": "stderr",
     "output_type": "stream",
     "text": [
      "\r",
      " 10%|█         | 101/1000 [04:07<36:43,  2.45s/it]"
     ]
    },
    {
     "name": "stdout",
     "output_type": "stream",
     "text": [
      "brio No ha violo sicues cina mbior, a Luel esouduere hajua ¿Quoso co trpl hata savuese entar lo de iv\n"
     ]
    },
    {
     "name": "stderr",
     "output_type": "stream",
     "text": [
      "\r",
      " 10%|█         | 102/1000 [04:11<36:49,  2.46s/it]"
     ]
    },
    {
     "name": "stdout",
     "output_type": "stream",
     "text": [
      ".4\n",
      "\n"
     ]
    },
    {
     "name": "stderr",
     "output_type": "stream",
     "text": [
      "\r",
      " 10%|█         | 103/1000 [04:14<36:53,  2.47s/it]"
     ]
    },
    {
     "name": "stdout",
     "output_type": "stream",
     "text": [
      "ñoo quegasosumolusore ue ran Plabís ro l o y e ca, 200 quara y do lara qus.0 siolo ciado l púbrto po \n"
     ]
    }
   ],
   "source": [
    "EPOCHS = 1000\n",
    "\n",
    "N, M, V = data.shape\n",
    "\n",
    "sess = tf.Session()\n",
    "sess.run(tf.global_variables_initializer())\n",
    "\n",
    "zeros = np.zeros(shape=(BATCH_SIZE))\n",
    "times_minus_one = (TIMES - 1) * np.ones(shape=(BATCH_SIZE))\n",
    "\n",
    "train_writer = tf.summary.FileWriter('./logs/train', sess.graph)\n",
    "\n",
    "counter = 0\n",
    "for e in tqdm(range(EPOCHS)):\n",
    "    \n",
    "    idxs = np.random.choice(N, BATCH_SIZE, replace=False)\n",
    "    batch = data[idxs]\n",
    "    batch_lens = lens[idxs].astype(np.int32)\n",
    "    \n",
    "    ts = (M-1) // TIMES # + 1\n",
    "    \n",
    "    # Initial state\n",
    "    c = np.zeros((BATCH_SIZE, N_HIDDEN))\n",
    "    h = np.zeros((BATCH_SIZE, N_HIDDEN))\n",
    "    \n",
    "    print(\"\".join(test(\"a\", max_=100)))\n",
    "    \n",
    "    for t in range(ts):\n",
    "        batch_x = batch[:, t*TIMES:TIMES*(t+1), :]\n",
    "        batch_y = batch[:, t*TIMES+1:TIMES*(t+1)+1, :]\n",
    "        \n",
    "        batch_lens_aux = batch_lens -  (TIMES * t)\n",
    "        \n",
    "        batch_lens_aux = np.maximum(zeros, batch_lens_aux)\n",
    "        batch_lens_aux = np.minimum(times_minus_one, batch_lens_aux)\n",
    "        \n",
    "        batch_lens_aux = batch_lens_aux.astype(np.uint8)\n",
    "        \n",
    "        non_zero_idxs = batch_lens_aux > 0\n",
    "        batch_lens_aux = batch_lens_aux[non_zero_idxs]\n",
    "\n",
    "        batch_x = batch_x[:, non_zero_idxs, :]\n",
    "        batch_y = batch_y[:, non_zero_idxs, :]\n",
    "        c_l = c[non_zero_idxs]\n",
    "        h_l = h[non_zero_idxs]\n",
    "        \n",
    "        if np.all(batch_lens_aux == 0):\n",
    "            break\n",
    "    \n",
    "           \n",
    "        m, states_, _ = sess.run([merge, states, upd], feed_dict={x: batch_x, y: batch_y, init_state_c: c_l, init_state_h: h_l, seq_len: batch_lens_aux})\n",
    "        train_writer.add_summary(m, counter)\n",
    "        \n",
    "        counter += 1\n",
    "        \n",
    "        c[non_zero_idxs] = states_.c\n",
    "        h[non_zero_idxs] = states_.h\n",
    "        "
   ]
  },
  {
   "cell_type": "code",
   "execution_count": 224,
   "metadata": {},
   "outputs": [],
   "source": [
    "def test(st, max_=1000):\n",
    "    \n",
    "    start = st\n",
    "    pred = start\n",
    "    \n",
    "    c = np.zeros((1, N_HIDDEN))\n",
    "    h = np.zeros((1, N_HIDDEN))\n",
    "    \n",
    "    ret = []\n",
    "        \n",
    "    while True:\n",
    "        \n",
    "        in_ = np.zeros(shape=(TIMES, 1, INPUT_SIZE), dtype=np.uint)\n",
    "        in_[0, 0, char_to_ix[pred]] = 1\n",
    "\n",
    "        net_out, net_states = sess.run([out_softmax, states], feed_dict={x: in_, init_state_c: c, init_state_h: h, seq_len: np.ones(shape=(1,))})\n",
    "        c, h = net_states.c, net_states.h\n",
    "        char_out = ix_to_char[int(np.random.choice(np.arange(INPUT_SIZE), p=np.squeeze(net_out[0])))]\n",
    "        \n",
    "        ret.append(char_out)\n",
    "\n",
    "        pred = char_out\n",
    "                                                                         \n",
    "        if char_out == '\\n' or len(ret) > max_:\n",
    "            break\n",
    "        \n",
    "    return ret                                                                       "
   ]
  },
  {
   "cell_type": "code",
   "execution_count": 226,
   "metadata": {},
   "outputs": [
    {
     "name": "stdout",
     "output_type": "stream",
     "text": [
      "afo e es A tase menste de es liotía y le liten y Impoteetodemone, un halontidocora te uen plo qu? déduntas 8tos Aicade guesar que ue biéntotos n o emmecio, as elostibio horiétos ne Areotrs eí, obado ueconton von doco e te do varciesivadomo mprmba a4.ñosu mprterran sjegade castrar mbila munasice la da lue fu r sriólon, itano sasicuestimánte diéelastameci quemásta lon esiéle C\n",
      "\n"
     ]
    }
   ],
   "source": [
    "print(\"\".join(test(\"b\")))"
   ]
  },
  {
   "cell_type": "code",
   "execution_count": null,
   "metadata": {},
   "outputs": [],
   "source": []
  }
 ],
 "metadata": {
  "kernelspec": {
   "display_name": "workshop-env",
   "language": "python",
   "name": "workshop-env"
  },
  "language_info": {
   "codemirror_mode": {
    "name": "ipython",
    "version": 3
   },
   "file_extension": ".py",
   "mimetype": "text/x-python",
   "name": "python",
   "nbconvert_exporter": "python",
   "pygments_lexer": "ipython3",
   "version": "3.6.5"
  }
 },
 "nbformat": 4,
 "nbformat_minor": 2
}
